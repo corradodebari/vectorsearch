{
 "cells": [
  {
   "cell_type": "markdown",
   "metadata": {},
   "source": [
    "## Instructions\n",
    "- Download from here: https://archive.ics.uci.edu/dataset/222/bank+marketing the dataset zip file \n",
    "- Unzip the file and look for `bank-additional-full.csv` in the directory `bank+marketing/bank-additional` \n",
    "- Copy that file in the Jupyter Notebook directory.\n",
    "- Create a `venv` on which run the notebook\n",
    "```bash\n",
    "cd src/\n",
    "python3.11 -m venv .venv --copies\n",
    "source .venv/bin/activate\n",
    "pip3.11 install --upgrade pip wheel setuptools\n",
    "```"
   ]
  },
  {
   "cell_type": "code",
   "execution_count": null,
   "metadata": {},
   "outputs": [],
   "source": [
    "!pip install pandas pyarrow oracledb scipy sqlalchemy"
   ]
  },
  {
   "cell_type": "code",
   "execution_count": null,
   "metadata": {},
   "outputs": [],
   "source": [
    "import oracledb\n",
    "from sqlalchemy import create_engine\n",
    "from sqlalchemy import Float,String\n",
    "from sqlalchemy.dialects.oracle import FLOAT as ORACLE_FLOAT\n",
    "import pandas as pd"
   ]
  },
  {
   "cell_type": "code",
   "execution_count": null,
   "metadata": {},
   "outputs": [],
   "source": [
    "df = pd.read_csv(\"bank-additional-full.csv\", \n",
    "                 delimiter=\";\",     \n",
    "                 header=0,          # Row to use as column names\n",
    "                 encoding=\"utf-8\",  \n",
    "                 nrows=1500)        # Optional: read only first 1500 rows\n"
   ]
  },
  {
   "cell_type": "code",
   "execution_count": null,
   "metadata": {},
   "outputs": [],
   "source": [
    "df.head(5)"
   ]
  },
  {
   "cell_type": "code",
   "execution_count": null,
   "metadata": {},
   "outputs": [],
   "source": [
    "df.columns"
   ]
  },
  {
   "cell_type": "code",
   "execution_count": null,
   "metadata": {},
   "outputs": [],
   "source": [
    "df[\"ID\"] = df.index + 1\n",
    "df[\"ID\"] = df[\"ID\"].astype(str)\n"
   ]
  },
  {
   "cell_type": "markdown",
   "metadata": {},
   "source": [
    "Change according your DB dsn,user,password"
   ]
  },
  {
   "cell_type": "code",
   "execution_count": null,
   "metadata": {},
   "outputs": [],
   "source": [
    "connection = oracledb.connect(dsn='localhost:1521/FREEPDB1', # for Oracle Database Free users\n",
    "                              user='vector',      # change with your user name\n",
    "                              password='vector')  # change with your user password\n",
    "\n",
    "\n",
    "engine = create_engine('oracle+oracledb://', creator=lambda: connection)\n",
    "df.to_sql('bank', con = engine, if_exists='replace', index=False,\n",
    "           dtype={\n",
    "        'cons.conf.idx': Float(53).with_variant(ORACLE_FLOAT(binary_precision=126), 'oracle'),\n",
    "        'emp.var.rate': Float(53).with_variant(ORACLE_FLOAT(binary_precision=126), 'oracle'),\n",
    "        'cons.price.idx': Float(53).with_variant(ORACLE_FLOAT(binary_precision=126), 'oracle'),\n",
    "        'euribor3m': Float(53).with_variant(ORACLE_FLOAT(binary_precision=126), 'oracle'),\n",
    "        'job': String(50),\n",
    "        'marital': String(50),\n",
    "        'education':  String(50),\n",
    "        'default':  String(50),\n",
    "        'housing':  String(50),\n",
    "        'loan':  String(50),\n",
    "        'contact':  String(50),\n",
    "        'day_of_week':  String(50),\n",
    "        'default':  String(50),\n",
    "        'month':  String(50),\n",
    "        'y':  String(50),\n",
    "        'ID':  String(50),\n",
    "        'poutcome':  String(50),\n",
    "    })"
   ]
  }
 ],
 "metadata": {
  "kernelspec": {
   "display_name": ".venv",
   "language": "python",
   "name": "python3"
  },
  "language_info": {
   "codemirror_mode": {
    "name": "ipython",
    "version": 3
   },
   "file_extension": ".py",
   "mimetype": "text/x-python",
   "name": "python",
   "nbconvert_exporter": "python",
   "pygments_lexer": "ipython3",
   "version": "3.11.6"
  }
 },
 "nbformat": 4,
 "nbformat_minor": 2
}
